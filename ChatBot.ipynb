{
  "nbformat": 4,
  "nbformat_minor": 0,
  "metadata": {
    "colab": {
      "provenance": []
    },
    "kernelspec": {
      "name": "python3",
      "display_name": "Python 3"
    },
    "language_info": {
      "name": "python"
    }
  },
  "cells": [
    {
      "cell_type": "code",
      "execution_count": 3,
      "metadata": {
        "colab": {
          "base_uri": "https://localhost:8080/"
        },
        "id": "hWSC5EXukBDa",
        "outputId": "50b37189-2f9a-40b6-8490-027bb4d584cf"
      },
      "outputs": [
        {
          "output_type": "stream",
          "name": "stdout",
          "text": [
            "Hi, I'm ChatBot. Type 'quit' to exit.\n",
            "You: hello\n",
            "Bot: Hey!\n",
            "You: tell me about ai\n",
            "Bot: Interesting, tell me more.\n",
            "You: you tell me types of ai\n",
            "Bot: Interesting, tell me more.\n",
            "You: quit\n",
            "Bot: Goodbye!\n"
          ]
        }
      ],
      "source": [
        "import nltk\n",
        "from nltk.chat.util import Chat, reflections\n",
        "\n",
        "# Define pairs of patterns and responses\n",
        "pairs = [\n",
        "    [\n",
        "        r\"hi|hello|hey\",\n",
        "        [\"Hello!\", \"Hi there!\", \"Hey!\"]\n",
        "    ],\n",
        "    [\n",
        "        r\"what is your name\\??\",\n",
        "        [\"I'm a chatbot created by OpenAI.\", \"You can call me ChatBot.\"]\n",
        "    ],\n",
        "    [\n",
        "        r\"how are you\\??\",\n",
        "        [\"I'm doing well, thank you!\", \"I'm a chatbot, so I don't have feelings, but I'm here to help you!\"]\n",
        "    ],\n",
        "    [\n",
        "        r\"what can you do\\??\",\n",
        "        [\"I can chat with you and answer basic questions.\", \"I'm here to keep you company and assist you with simple tasks.\"]\n",
        "    ],\n",
        "    [\n",
        "        r\"quit\",\n",
        "        [\"Goodbye!\", \"It was nice talking to you. See you later!\"]\n",
        "    ],\n",
        "    [\n",
        "        r\"(.*)\",\n",
        "        [\"I'm sorry, I don't understand that.\", \"Can you rephrase that?\", \"Interesting, tell me more.\"]\n",
        "    ]\n",
        "]\n",
        "\n",
        "# Chatbot logic\n",
        "chat = Chat(pairs, reflections)\n",
        "\n",
        "def start_chat():\n",
        "    print(\"Hi, I'm ChatBot. Type 'quit' to exit.\")\n",
        "    while True:\n",
        "        user_input = input(\"You: \")\n",
        "        if user_input.lower() == \"quit\":\n",
        "            print(\"Bot: Goodbye!\")\n",
        "            break\n",
        "        response = chat.respond(user_input)\n",
        "        print(\"Bot:\", response)\n",
        "\n",
        "# Start the chatbot\n",
        "start_chat()\n"
      ]
    },
    {
      "cell_type": "code",
      "source": [],
      "metadata": {
        "id": "y_8VS4Ngkl3_"
      },
      "execution_count": null,
      "outputs": []
    }
  ]
}